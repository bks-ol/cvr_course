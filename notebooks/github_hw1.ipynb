{
  "nbformat": 4,
  "nbformat_minor": 0,
  "metadata": {
    "kernelspec": {
      "display_name": "Python 3",
      "language": "python",
      "name": "python3"
    },
    "language_info": {
      "codemirror_mode": {
        "name": "ipython",
        "version": 3
      },
      "file_extension": ".py",
      "mimetype": "text/x-python",
      "name": "python",
      "nbconvert_exporter": "python",
      "pygments_lexer": "ipython3",
      "version": "3.6.9"
    },
    "colab": {
      "name": "github_hw1.ipynb",
      "provenance": [],
      "toc_visible": true
    }
  },
  "cells": [
    {
      "cell_type": "markdown",
      "metadata": {
        "id": "TYPtHa0TxDBP"
      },
      "source": [
        "# Домашнее задание\n",
        "Домашнее задание выполнять в этой тетрадке. \n",
        "\n",
        "- [ ] Сделать fork репозитория cvr_cource (https://github.com/StarkitRobots/cvr_course) - 1 балл\n",
        "- [ ] Создать ветку update_readme - 1 балл\n",
        "- [ ] Добавить одну строчку в README.md \n",
        "- [ ] Запушить (git push) изменения в ветку update_readme - 3 балла\n",
        "- [ ] Слить (merge) ветку update_readme в ветку develop - 1 балл\n",
        "- [ ] Сохранить эту тетрадку с выполненной домашкой себе в репозиторий в ветку develop - 3 балла\n",
        "- [ ] Слить (merge) ветку develop в ветку main - 1 балл"
      ]
    },
    {
      "cell_type": "markdown",
      "metadata": {
        "id": "ODtvgAzoxDBW"
      },
      "source": [
        "Материалы к семинару:\n",
        "1. [Удачная модель ветвления](https://m.habr.com/ru/post/106912/)\n",
        "2. [Зачем нужен Git](https://guides.hexlet.io/git-guide/)\n",
        "3. [Самые популярные ошибки и их решения](https://tproger.ru/translations/most-common-git-screwupsquestions-and-solutions/)\n",
        "4. [Ветвление](https://git-scm.com/book/ru/v2/%D0%92%D0%B5%D1%82%D0%B2%D0%BB%D0%B5%D0%BD%D0%B8%D0%B5-%D0%B2-Git-%D0%9E-%D0%B2%D0%B5%D1%82%D0%B2%D0%BB%D0%B5%D0%BD%D0%B8%D0%B8-%D0%B2-%D0%B4%D0%B2%D1%83%D1%85-%D1%81%D0%BB%D0%BE%D0%B2%D0%B0%D1%85)\n",
        "5. [Инструкция по всему Git](https://git-scm.com/book/ru/v2)\n",
        "6. [Приложение для обучения Git](https://learngitbranching.js.org/?locale=ru_RU), спасибо Анне Касаткиной за ссылку на отличный материал"
      ]
    },
    {
      "cell_type": "code",
      "metadata": {
        "id": "5yxCWGWAxDBX",
        "colab": {
          "base_uri": "https://localhost:8080/"
        },
        "outputId": "09ea277b-c930-40ba-bc9c-5d325d58c9e9"
      },
      "source": [
        "!git clone https://github.com/bks-ol/cvr_course.git"
      ],
      "execution_count": 22,
      "outputs": [
        {
          "output_type": "stream",
          "text": [
            "Cloning into 'cvr_course'...\n",
            "remote: Enumerating objects: 135, done.\u001b[K\n",
            "remote: Counting objects: 100% (135/135), done.\u001b[K\n",
            "remote: Compressing objects: 100% (106/106), done.\u001b[K\n",
            "remote: Total 494 (delta 53), reused 99 (delta 24), pack-reused 359\u001b[K\n",
            "Receiving objects: 100% (494/494), 60.34 MiB | 15.98 MiB/s, done.\n",
            "Resolving deltas: 100% (110/110), done.\n"
          ],
          "name": "stdout"
        }
      ]
    },
    {
      "cell_type": "code",
      "metadata": {
        "colab": {
          "base_uri": "https://localhost:8080/"
        },
        "id": "XcHXmidHxW0W",
        "outputId": "f975940a-2375-4b92-fa62-f16e2aca90ba"
      },
      "source": [
        "cd cvr_course"
      ],
      "execution_count": 23,
      "outputs": [
        {
          "output_type": "stream",
          "text": [
            "/content/cvr_course/cvr_course\n"
          ],
          "name": "stdout"
        }
      ]
    },
    {
      "cell_type": "code",
      "metadata": {
        "id": "gsTGHf8VxYyS"
      },
      "source": [
        "!git remote add origin-psk "
      ],
      "execution_count": 24,
      "outputs": []
    },
    {
      "cell_type": "code",
      "metadata": {
        "colab": {
          "base_uri": "https://localhost:8080/"
        },
        "id": "okVm0CjWxZ3J",
        "outputId": "16f0a195-53c7-438b-8a80-97752a9dc1a6"
      },
      "source": [
        "!git status"
      ],
      "execution_count": 25,
      "outputs": [
        {
          "output_type": "stream",
          "text": [
            "On branch main\n",
            "Your branch is up to date with 'origin/main'.\n",
            "\n",
            "nothing to commit, working tree clean\n"
          ],
          "name": "stdout"
        }
      ]
    },
    {
      "cell_type": "code",
      "metadata": {
        "id": "ennYyB8kxazU"
      },
      "source": [
        "!git branch update_readme"
      ],
      "execution_count": 26,
      "outputs": []
    },
    {
      "cell_type": "code",
      "metadata": {
        "colab": {
          "base_uri": "https://localhost:8080/"
        },
        "id": "nianbr0txeK7",
        "outputId": "1c72d028-3853-41ca-f056-54d11640a005"
      },
      "source": [
        "!git checkout update_readme"
      ],
      "execution_count": 27,
      "outputs": [
        {
          "output_type": "stream",
          "text": [
            "Switched to branch 'update_readme'\n"
          ],
          "name": "stdout"
        }
      ]
    },
    {
      "cell_type": "code",
      "metadata": {
        "colab": {
          "base_uri": "https://localhost:8080/"
        },
        "id": "3GL2M5CAxfLp",
        "outputId": "c0455ba3-9497-46c8-d2ac-655b86139a3c"
      },
      "source": [
        "!cat README.md"
      ],
      "execution_count": 28,
      "outputs": [
        {
          "output_type": "stream",
          "text": [
            "# Computer Vision in Robotics\n",
            "\n",
            "<img src=\"./.img/logo_for_form.png\" height=\"350\" />\n",
            "\n",
            "\n",
            "Visit our site <https://www.starkitrobots.com/cvr> to check content.\n",
            "Course is online and will be carried out on our *[YouTube chanel](https://www.youtube.com/channel/UC0QPJgfg17wCqf4-hG_A5OA)*.\n"
          ],
          "name": "stdout"
        }
      ]
    },
    {
      "cell_type": "code",
      "metadata": {
        "id": "BrlixzSdxgHf"
      },
      "source": [
        "!echo \"Add new line\" >> README.md"
      ],
      "execution_count": 29,
      "outputs": []
    },
    {
      "cell_type": "code",
      "metadata": {
        "id": "SERDuwLlxhaB"
      },
      "source": [
        "!git add ."
      ],
      "execution_count": 30,
      "outputs": []
    },
    {
      "cell_type": "code",
      "metadata": {
        "id": "BkWuz0H3xiSn"
      },
      "source": [
        "!git config --global user.email \"bks-ol@mail.ru\"\r\n",
        "!git config --global user.name \"Olesia\""
      ],
      "execution_count": 31,
      "outputs": []
    },
    {
      "cell_type": "code",
      "metadata": {
        "colab": {
          "base_uri": "https://localhost:8080/"
        },
        "id": "n0u8r3hTxjWr",
        "outputId": "306fa2a5-1e0f-465e-a9c6-7aac680d7774"
      },
      "source": [
        "!git commit -m \"Update\""
      ],
      "execution_count": 32,
      "outputs": [
        {
          "output_type": "stream",
          "text": [
            "[update_readme 5c5127e] Update\n",
            " 1 file changed, 1 insertion(+)\n"
          ],
          "name": "stdout"
        }
      ]
    },
    {
      "cell_type": "code",
      "metadata": {
        "colab": {
          "base_uri": "https://localhost:8080/"
        },
        "id": "irck3pLLxljd",
        "outputId": "f486ac0b-5c2f-443a-f9f4-fe2401fe1e10"
      },
      "source": [
        "!git push origin-psk"
      ],
      "execution_count": 33,
      "outputs": [
        {
          "output_type": "stream",
          "text": [
            "Counting objects: 3, done.\n",
            "Delta compression using up to 2 threads.\n",
            "Compressing objects:  33% (1/3)   \rCompressing objects:  66% (2/3)   \rCompressing objects: 100% (3/3)   \rCompressing objects: 100% (3/3), done.\n",
            "Writing objects:  33% (1/3)   \rWriting objects:  66% (2/3)   \rWriting objects: 100% (3/3)   \rWriting objects: 100% (3/3), 288 bytes | 288.00 KiB/s, done.\n",
            "Total 3 (delta 2), reused 0 (delta 0)\n",
            "remote: Resolving deltas: 100% (2/2), completed with 2 local objects.\u001b[K\n",
            "remote: \n",
            "remote: Create a pull request for 'update_readme' on GitHub by visiting:\u001b[K\n",
            "remote:      https://github.com/bks-ol/cvr_course/pull/new/update_readme\u001b[K\n",
            "remote: \n",
            "To https://github.com/bks-ol/cvr_course.git\n",
            " * [new branch]      update_readme -> update_readme\n"
          ],
          "name": "stdout"
        }
      ]
    },
    {
      "cell_type": "code",
      "metadata": {
        "colab": {
          "base_uri": "https://localhost:8080/"
        },
        "id": "a3-Jgxj6xmxb",
        "outputId": "549b5f54-d8a5-4dee-be6c-9e8dfac09ead"
      },
      "source": [
        "!git branch -a"
      ],
      "execution_count": 34,
      "outputs": [
        {
          "output_type": "stream",
          "text": [
            "  main\u001b[m\n",
            "* \u001b[32mupdate_readme\u001b[m\n",
            "  \u001b[31mremotes/origin-psk/update_readme\u001b[m\n",
            "  \u001b[31mremotes/origin/HEAD\u001b[m -> origin/main\n",
            "  \u001b[31mremotes/origin/develop\u001b[m\n",
            "  \u001b[31mremotes/origin/final_project\u001b[m\n",
            "  \u001b[31mremotes/origin/main\u001b[m\n"
          ],
          "name": "stdout"
        }
      ]
    },
    {
      "cell_type": "code",
      "metadata": {
        "colab": {
          "base_uri": "https://localhost:8080/"
        },
        "id": "7AumBk8Uxujt",
        "outputId": "28b2f898-c146-48a2-b6e4-d7c3152c80dc"
      },
      "source": [
        "!git checkout develop"
      ],
      "execution_count": 35,
      "outputs": [
        {
          "output_type": "stream",
          "text": [
            "Branch 'develop' set up to track remote branch 'develop' from 'origin'.\n",
            "Switched to a new branch 'develop'\n"
          ],
          "name": "stdout"
        }
      ]
    },
    {
      "cell_type": "code",
      "metadata": {
        "colab": {
          "base_uri": "https://localhost:8080/"
        },
        "id": "DhC4brOYxv3Y",
        "outputId": "39ff7003-7bdb-48da-de06-d383275f579e"
      },
      "source": [
        "!git status"
      ],
      "execution_count": 36,
      "outputs": [
        {
          "output_type": "stream",
          "text": [
            "On branch develop\n",
            "Your branch is up to date with 'origin/develop'.\n",
            "\n",
            "nothing to commit, working tree clean\n"
          ],
          "name": "stdout"
        }
      ]
    },
    {
      "cell_type": "code",
      "metadata": {
        "colab": {
          "base_uri": "https://localhost:8080/"
        },
        "id": "MYQ4Otr-xxRJ",
        "outputId": "35143091-5f65-4a38-9af8-105fae8654b9"
      },
      "source": [
        "!git merge update_readme"
      ],
      "execution_count": 37,
      "outputs": [
        {
          "output_type": "stream",
          "text": [
            "hint: Waiting for your editor to close the file... error: unable to start editor 'editor'\n",
            "Not committing merge; use 'git commit' to complete the merge.\n"
          ],
          "name": "stdout"
        }
      ]
    },
    {
      "cell_type": "code",
      "metadata": {
        "colab": {
          "base_uri": "https://localhost:8080/"
        },
        "id": "I9jLJjCAxyZr",
        "outputId": "1325754e-f188-47b6-e724-243b736998a8"
      },
      "source": [
        "!git commit -m \"merge\""
      ],
      "execution_count": 38,
      "outputs": [
        {
          "output_type": "stream",
          "text": [
            "[develop abdc6d0] merge\n"
          ],
          "name": "stdout"
        }
      ]
    },
    {
      "cell_type": "code",
      "metadata": {
        "colab": {
          "base_uri": "https://localhost:8080/"
        },
        "id": "J7VkhlXbxzgU",
        "outputId": "b7797407-d3cb-44fa-833f-b191acf9a911"
      },
      "source": [
        "!git push origin-psk"
      ],
      "execution_count": 39,
      "outputs": [
        {
          "output_type": "stream",
          "text": [
            "Counting objects: 3, done.\n",
            "Delta compression using up to 2 threads.\n",
            "Compressing objects:  33% (1/3)   \rCompressing objects:  66% (2/3)   \rCompressing objects: 100% (3/3)   \rCompressing objects: 100% (3/3), done.\n",
            "Writing objects:  33% (1/3)   \rWriting objects:  66% (2/3)   \rWriting objects: 100% (3/3)   \rWriting objects: 100% (3/3), 328 bytes | 328.00 KiB/s, done.\n",
            "Total 3 (delta 2), reused 0 (delta 0)\n",
            "remote: Resolving deltas: 100% (2/2), completed with 2 local objects.\u001b[K\n",
            "To https://github.com/bks-ol/cvr_course.git\n",
            "   749b08c..abdc6d0  develop -> develop\n"
          ],
          "name": "stdout"
        }
      ]
    },
    {
      "cell_type": "code",
      "metadata": {
        "colab": {
          "base_uri": "https://localhost:8080/"
        },
        "id": "G-vLRxKdx2R6",
        "outputId": "2fb53d81-0507-449f-9f3e-e1273cfcc583"
      },
      "source": [
        "!git checkout main"
      ],
      "execution_count": 58,
      "outputs": [
        {
          "output_type": "stream",
          "text": [
            "Switched to branch 'main'\n",
            "Your branch is up to date with 'origin/main'.\n"
          ],
          "name": "stdout"
        }
      ]
    },
    {
      "cell_type": "code",
      "metadata": {
        "id": "5NJ9OjyAyo_q",
        "outputId": "084a716d-14ce-47c7-d880-791c479cd15d",
        "colab": {
          "base_uri": "https://localhost:8080/"
        }
      },
      "source": [
        "!git merge develop"
      ],
      "execution_count": 59,
      "outputs": [
        {
          "output_type": "stream",
          "text": [
            "Updating abdc6d0..95e477e\n",
            "Fast-forward\n",
            " notebooks/github_hw1.ipynb | 402 \u001b[32m++++++++++++++++++++++++++++++++++++++++++++\u001b[m\u001b[31m-\u001b[m\n",
            " 1 file changed, 401 insertions(+), 1 deletion(-)\n"
          ],
          "name": "stdout"
        }
      ]
    },
    {
      "cell_type": "code",
      "metadata": {
        "id": "xFgTq72-yqbv",
        "outputId": "3adc5f94-41fe-4a79-9678-59de91fddb33",
        "colab": {
          "base_uri": "https://localhost:8080/"
        }
      },
      "source": [
        "!git commit -m \"merge main\""
      ],
      "execution_count": 60,
      "outputs": [
        {
          "output_type": "stream",
          "text": [
            "On branch main\n",
            "Your branch is ahead of 'origin/main' by 1 commit.\n",
            "  (use \"git push\" to publish your local commits)\n",
            "\n",
            "nothing to commit, working tree clean\n"
          ],
          "name": "stdout"
        }
      ]
    },
    {
      "cell_type": "code",
      "metadata": {
        "id": "ZlQRsPlByzh3",
        "outputId": "002ab5f1-1478-4a3f-97aa-63c67bee57e6",
        "colab": {
          "base_uri": "https://localhost:8080/"
        }
      },
      "source": [
        "!git push origin-psk"
      ],
      "execution_count": 61,
      "outputs": [
        {
          "output_type": "stream",
          "text": [
            "Total 0 (delta 0), reused 0 (delta 0)\n",
            "To https://github.com/bks-ol/cvr_course.git\n",
            "   abdc6d0..95e477e  main -> main\n"
          ],
          "name": "stdout"
        }
      ]
    },
    {
      "cell_type": "code",
      "metadata": {
        "id": "N46GmVcj2grQ"
      },
      "source": [
        ""
      ],
      "execution_count": null,
      "outputs": []
    }
  ]
}